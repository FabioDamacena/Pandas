{
  "nbformat": 4,
  "nbformat_minor": 0,
  "metadata": {
    "colab": {
      "name": "Untitled1.ipynb",
      "provenance": [],
      "collapsed_sections": [
        "MCYue0bEkA0T",
        "_cWwgBelxUYg",
        "rGJTvcivyxtj",
        "__86G7G4z0yk",
        "nOtkuw3w2ad7",
        "LsqMuKF23-AW",
        "r3PqYHg14m0R",
        "Wn2hmz-T56jo",
        "QxjBOkJsSeIQ",
        "ENuFJ2czTpOc",
        "0ipeYt4oVS4n",
        "iPF_x4KSXMHm"
      ],
      "authorship_tag": "ABX9TyPONlnXdjAihXlCW7cw9KAv",
      "include_colab_link": true
    },
    "kernelspec": {
      "name": "python3",
      "display_name": "Python 3"
    }
  },
  "cells": [
    {
      "cell_type": "markdown",
      "metadata": {
        "id": "view-in-github",
        "colab_type": "text"
      },
      "source": [
        "<a href=\"https://colab.research.google.com/github/FabioDamacena/Pandas/blob/main/Data_Cleaning_Python.ipynb\" target=\"_parent\"><img src=\"https://colab.research.google.com/assets/colab-badge.svg\" alt=\"Open In Colab\"/></a>"
      ]
    },
    {
      "cell_type": "markdown",
      "metadata": {
        "id": "7lwVUE95jsSm"
      },
      "source": [
        "# **Data Cleaning com Python**"
      ]
    },
    {
      "cell_type": "markdown",
      "metadata": {
        "id": "MCYue0bEkA0T"
      },
      "source": [
        "## **Dados missing fora do padrão**\r\n",
        "\r\n",
        "*   Falta do valor\r\n",
        "*   Valores truncados\r\n",
        "*   Valores do usuário\r\n",
        "\r\n"
      ]
    },
    {
      "cell_type": "code",
      "metadata": {
        "id": "d5UcEWqCkUnP"
      },
      "source": [
        "import pandas as pd\r\n",
        "import numpy as np"
      ],
      "execution_count": null,
      "outputs": []
    },
    {
      "cell_type": "code",
      "metadata": {
        "id": "KW-wr7DwkMry"
      },
      "source": [
        "df = pd.read_csv('https://raw.githubusercontent.com/FabioDamacena/Pandas/main/file_test.csv', sep=';')"
      ],
      "execution_count": null,
      "outputs": []
    },
    {
      "cell_type": "code",
      "metadata": {
        "id": "zmFhogkurTTx"
      },
      "source": [
        "df.head()"
      ],
      "execution_count": null,
      "outputs": []
    },
    {
      "cell_type": "markdown",
      "metadata": {
        "id": "V1HPN00AmeHU"
      },
      "source": [
        "Contagem da quantidade de missing values por coluna e total de missing values da base:"
      ]
    },
    {
      "cell_type": "code",
      "metadata": {
        "id": "viVnTDmLmvPk"
      },
      "source": [
        "df.isnull().sum()"
      ],
      "execution_count": null,
      "outputs": []
    },
    {
      "cell_type": "code",
      "metadata": {
        "id": "YIUaq5H2mhXD"
      },
      "source": [
        "df.isnull().sum().sum()"
      ],
      "execution_count": null,
      "outputs": []
    },
    {
      "cell_type": "markdown",
      "metadata": {
        "id": "ViC4TOZWryWh"
      },
      "source": [
        "Analisando colunas específicas:"
      ]
    },
    {
      "cell_type": "code",
      "metadata": {
        "id": "630NHzDgr0Ej"
      },
      "source": [
        "df.ST_NUM # Pandas identificou o valor vazio como um NaN"
      ],
      "execution_count": null,
      "outputs": []
    },
    {
      "cell_type": "code",
      "metadata": {
        "id": "MzMfKToUsI4w"
      },
      "source": [
        "df.NUM_BEDROOM # Na última linha não identificou o 'na' como NaN"
      ],
      "execution_count": null,
      "outputs": []
    },
    {
      "cell_type": "code",
      "metadata": {
        "id": "TA53124Js3mE"
      },
      "source": [
        "df.NUM_BEDROOM.isnull() # Não contou a última linha como nula"
      ],
      "execution_count": null,
      "outputs": []
    },
    {
      "cell_type": "code",
      "metadata": {
        "id": "oGkOk4d9tDXI"
      },
      "source": [
        "df.OWN_OCCUPIED # Coluna de strings com valor numérico não foi identificada a irregularidade"
      ],
      "execution_count": null,
      "outputs": []
    },
    {
      "cell_type": "markdown",
      "metadata": {
        "id": "pZJg3e_mtRqt"
      },
      "source": [
        "Resolvendo as irregularidades:\r\n",
        "\r\n",
        "*   Valores inteiros em strings ou vice e versa\r\n",
        "*   Utilidade do cleaning antes de usar o scikit learn para treinar algoritmos\r\n",
        "\r\n"
      ]
    },
    {
      "cell_type": "markdown",
      "metadata": {
        "id": "qrqe7TEpuzFp"
      },
      "source": [
        "Criação de uma lista de valores missing para que o pandas os identifique e utilização do parâmetro na_values:"
      ]
    },
    {
      "cell_type": "code",
      "metadata": {
        "id": "0Ex4MQK0u8-P"
      },
      "source": [
        "missing_values = [\"n/a\", \"na\", \"--\", \".\"]"
      ],
      "execution_count": null,
      "outputs": []
    },
    {
      "cell_type": "code",
      "metadata": {
        "id": "GKfwV9ldvNOV"
      },
      "source": [
        "df = pd.read_csv('https://raw.githubusercontent.com/FabioDamacena/Pandas/main/file_test.csv', na_values = missing_values, sep = ';')"
      ],
      "execution_count": null,
      "outputs": []
    },
    {
      "cell_type": "code",
      "metadata": {
        "id": "ZbA-AiQkvZ6D"
      },
      "source": [
        "df.head(9)"
      ],
      "execution_count": null,
      "outputs": []
    },
    {
      "cell_type": "code",
      "metadata": {
        "id": "LPXq2rYevu6V"
      },
      "source": [
        "df.isnull().sum().sum()"
      ],
      "execution_count": null,
      "outputs": []
    },
    {
      "cell_type": "markdown",
      "metadata": {
        "id": "q5iupJHTwlAM"
      },
      "source": [
        "Substituição de valores numéricos por strings:"
      ]
    },
    {
      "cell_type": "code",
      "metadata": {
        "id": "sLQ_gGXrwJN3"
      },
      "source": [
        "count = 0\r\n",
        "for row in df.OWN_OCCUPIED:\r\n",
        "  try:\r\n",
        "    int(row) # Tenta converter o valor encontrado na coluna para inteiro, se conseguir, substitui por NaN. Se fosse ao contrário (string em coluna de inteiros), utilizaria str(row)\r\n",
        "    df.loc[count, 'OWN_OCCUPIED'] = np.nan # np.nan é atributo que transforma o valor em NaN\r\n",
        "  except ValueError: # Continua o loop se der erro\r\n",
        "    pass\r\n",
        "  count += 1"
      ],
      "execution_count": null,
      "outputs": []
    },
    {
      "cell_type": "code",
      "metadata": {
        "id": "juQ6REKXwMaG"
      },
      "source": [
        "df.OWN_OCCUPIED # Substitui o valor numérico por NaN"
      ],
      "execution_count": null,
      "outputs": []
    },
    {
      "cell_type": "code",
      "metadata": {
        "id": "uJnFdjRnw7b5"
      },
      "source": [
        "df.isnull().sum().sum()"
      ],
      "execution_count": null,
      "outputs": []
    },
    {
      "cell_type": "markdown",
      "metadata": {
        "id": "_cWwgBelxUYg"
      },
      "source": [
        "## **Biblioteca missingno**"
      ]
    },
    {
      "cell_type": "markdown",
      "metadata": {
        "id": "H2yUD3azxaju"
      },
      "source": [
        "Permite a visualização fácil de missing values por coluna"
      ]
    },
    {
      "cell_type": "code",
      "metadata": {
        "id": "JqVJyYPJxedz"
      },
      "source": [
        "!pip install quilt"
      ],
      "execution_count": null,
      "outputs": []
    },
    {
      "cell_type": "markdown",
      "metadata": {
        "id": "hd0Jv4IKxmtU"
      },
      "source": [
        "Instala pacote de dataset de exemplo:"
      ]
    },
    {
      "cell_type": "code",
      "metadata": {
        "id": "2Vh8hW6TxlTU"
      },
      "source": [
        "!quilt install ResidentMario/missingno_data"
      ],
      "execution_count": null,
      "outputs": []
    },
    {
      "cell_type": "code",
      "metadata": {
        "id": "Hm4GAqbXxxaV"
      },
      "source": [
        "from quilt.data.ResidentMario import missingno_data"
      ],
      "execution_count": null,
      "outputs": []
    },
    {
      "cell_type": "markdown",
      "metadata": {
        "id": "OBAXKg-1x3jg"
      },
      "source": [
        "Carrega a base de dados (base de dados de exemplo sobre as colisões na cidade de New York):"
      ]
    },
    {
      "cell_type": "code",
      "metadata": {
        "id": "ObooFlNMx5O4"
      },
      "source": [
        "df2 = missingno_data.nyc_collision_factors()"
      ],
      "execution_count": null,
      "outputs": []
    },
    {
      "cell_type": "code",
      "metadata": {
        "id": "stVNZw-MyJWc"
      },
      "source": [
        "df2.info()"
      ],
      "execution_count": null,
      "outputs": []
    },
    {
      "cell_type": "code",
      "metadata": {
        "id": "fjpFZEnHydDc"
      },
      "source": [
        "df2.isnull().sum()"
      ],
      "execution_count": null,
      "outputs": []
    },
    {
      "cell_type": "markdown",
      "metadata": {
        "id": "rGJTvcivyxtj"
      },
      "source": [
        "### **Método Replace**\r\n",
        "\r\n",
        "\r\n",
        "*   Substituição de dados a nível de dataframe\r\n",
        "*   Substituição de dados usando regex\r\n"
      ]
    },
    {
      "cell_type": "code",
      "metadata": {
        "id": "RaFeOhEpy70L"
      },
      "source": [
        "teste = pd.DataFrame({'A': [0, 1, 2, 3, 4], 'B': [5, 6, 7, 8, 9], 'C': ['a', 'b', 'c', 'd', 'e']})"
      ],
      "execution_count": null,
      "outputs": []
    },
    {
      "cell_type": "code",
      "metadata": {
        "id": "iGk6BaspzO9V"
      },
      "source": [
        "teste"
      ],
      "execution_count": null,
      "outputs": []
    },
    {
      "cell_type": "code",
      "metadata": {
        "id": "LYRP5Sq4zTBI"
      },
      "source": [
        "teste.replace(0, 1000) # Se encontra o valor 0, substitui pelo valor 1000"
      ],
      "execution_count": null,
      "outputs": []
    },
    {
      "cell_type": "code",
      "metadata": {
        "id": "zMokfOHTzgjp"
      },
      "source": [
        "teste.replace([0, 1, 2, 3, 4], 'Novo Valor')"
      ],
      "execution_count": null,
      "outputs": []
    },
    {
      "cell_type": "markdown",
      "metadata": {
        "id": "__86G7G4z0yk"
      },
      "source": [
        "### **Substituição dos valores string 'nan' por tipo NaN:**"
      ]
    },
    {
      "cell_type": "code",
      "metadata": {
        "id": "MS4sITzX0Vz0"
      },
      "source": [
        "df2.replace(\"nan\", np.NaN, inplace=True)"
      ],
      "execution_count": null,
      "outputs": []
    },
    {
      "cell_type": "code",
      "metadata": {
        "id": "gPiGzgZ40joq"
      },
      "source": [
        "df2.isnull().sum()"
      ],
      "execution_count": null,
      "outputs": []
    },
    {
      "cell_type": "code",
      "metadata": {
        "id": "KoJKQuqP06i7"
      },
      "source": [
        "df2['ON STREET NAME'].value_counts(dropna=False) # Conta valores únicos, incluindo NaN"
      ],
      "execution_count": null,
      "outputs": []
    },
    {
      "cell_type": "code",
      "metadata": {
        "id": "i_YVaPRu1RN0"
      },
      "source": [
        "import missingno as msno\r\n",
        "msno.bar(df2.sample(1000)) # Quanto mais curta a barra, maior a quantidade de missing values da coluna"
      ],
      "execution_count": null,
      "outputs": []
    },
    {
      "cell_type": "code",
      "metadata": {
        "id": "p_abgCu11u1F"
      },
      "source": [
        "msno.matrix(df2.sample(250)) # O que está cinza está preenchido"
      ],
      "execution_count": null,
      "outputs": []
    },
    {
      "cell_type": "markdown",
      "metadata": {
        "id": "nOtkuw3w2ad7"
      },
      "source": [
        "### **Remoção dos dados que não são úteis para a análise:**"
      ]
    },
    {
      "cell_type": "markdown",
      "metadata": {
        "id": "Y_HHkYyv2GRE"
      },
      "source": [
        "Removendo colunas com 90% de dados missing:"
      ]
    },
    {
      "cell_type": "code",
      "metadata": {
        "id": "iP4bMEcc2Kpi"
      },
      "source": [
        "df2.shape[0] *.9 # Conta quantidade de linhas com missing"
      ],
      "execution_count": null,
      "outputs": []
    },
    {
      "cell_type": "code",
      "metadata": {
        "id": "YEBmCX992-dR"
      },
      "source": [
        "df2.dropna(thresh=int(df2.shape[0] * .9), axis=1, inplace=True) # Se a coluna tiver o número de linhas passado para thresh, apaga a coluna do DataFrame"
      ],
      "execution_count": null,
      "outputs": []
    },
    {
      "cell_type": "code",
      "metadata": {
        "id": "_rS69ulP3gwb"
      },
      "source": [
        "%matplotlib inline\r\n",
        "msno.matrix(df2.sample(250))"
      ],
      "execution_count": null,
      "outputs": []
    },
    {
      "cell_type": "markdown",
      "metadata": {
        "id": "LsqMuKF23-AW"
      },
      "source": [
        "## **Data Cleaning em textos**\r\n",
        "\r\n",
        "\r\n",
        "*   Tipo de dado em que é necessária maior limpeza, geralmente\r\n",
        "*   Tarefas de pré-processamento adequadas para tipo de tarefas\r\n",
        "\r\n"
      ]
    },
    {
      "cell_type": "markdown",
      "metadata": {
        "id": "GzRNCrpl4bru"
      },
      "source": [
        "Beautifier - toolkit para dados da web:"
      ]
    },
    {
      "cell_type": "code",
      "metadata": {
        "id": "R3j9H21G4D90"
      },
      "source": [
        "!pip install beautifier"
      ],
      "execution_count": null,
      "outputs": []
    },
    {
      "cell_type": "markdown",
      "metadata": {
        "id": "r3PqYHg14m0R"
      },
      "source": [
        "#### **Recursos para trabalhar com URL's:**"
      ]
    },
    {
      "cell_type": "code",
      "metadata": {
        "id": "Z5EK5uzr4psR"
      },
      "source": [
        "from beautifier import Url\r\n",
        "url = Url('https://in.linkedin.com/in/sachinphilip?authtoken=887nasdadasd6hasdtg21&secret=98jy766yhhuhnjk')\r\n",
        "url.cleanup # Mostra a URL limpa"
      ],
      "execution_count": null,
      "outputs": []
    },
    {
      "cell_type": "code",
      "metadata": {
        "id": "TLWrCQgc5UH0"
      },
      "source": [
        "url.domain # Mostra o domínio"
      ],
      "execution_count": null,
      "outputs": []
    },
    {
      "cell_type": "code",
      "metadata": {
        "id": "JiPEelFe5Wtq"
      },
      "source": [
        "url.param # Mostra os parâmetros"
      ],
      "execution_count": null,
      "outputs": []
    },
    {
      "cell_type": "markdown",
      "metadata": {
        "id": "Wn2hmz-T56jo"
      },
      "source": [
        "#### **Recursos para trabalhar com dados de email:**"
      ]
    },
    {
      "cell_type": "code",
      "metadata": {
        "id": "pe_3EKqn5_Wh"
      },
      "source": [
        "from beautifier import Email\r\n",
        "email = Email('me@insach.in')"
      ],
      "execution_count": null,
      "outputs": []
    },
    {
      "cell_type": "code",
      "metadata": {
        "id": "S3qSv2x26IkA"
      },
      "source": [
        "try:\r\n",
        "  f = open(\"https://raw.githubusercontent.com/FabioDamacena/Pandas/main/email_test.txt\", \"r\")\r\n",
        "  for i in f.readlines():\r\n",
        "    obj_email = Email(i)\r\n",
        "    print(f'Username: {obj_email.username}, Domínio: {obj_email.domain}, Valido: {obj_email.is_valid}')\r\n",
        "except:\r\n",
        "  pass    "
      ],
      "execution_count": null,
      "outputs": []
    },
    {
      "cell_type": "code",
      "metadata": {
        "id": "YRHp-ABn7WSw"
      },
      "source": [
        "try:\r\n",
        "  f = open(\"https://raw.githubusercontent.com/FabioDamacena/Pandas/main/email_test.txt\", \"r\")\r\n",
        "  for i in f.readlines():\r\n",
        "    obj_email = Email(i)\r\n",
        "    if obj_email.is_free_email == False:\r\n",
        "      print(f'Emails Corporativos: {i}') # Verifica tipo de domínio do email\r\n",
        "except:\r\n",
        "  pass"
      ],
      "execution_count": null,
      "outputs": []
    },
    {
      "cell_type": "markdown",
      "metadata": {
        "id": "QxjBOkJsSeIQ"
      },
      "source": [
        "#### **Removendo pontuações:**"
      ]
    },
    {
      "cell_type": "code",
      "metadata": {
        "id": "k-xVWF1GSgTe"
      },
      "source": [
        "import string\r\n",
        "string.punctuation"
      ],
      "execution_count": null,
      "outputs": []
    },
    {
      "cell_type": "code",
      "metadata": {
        "id": "KkF-3u-xS_bQ"
      },
      "source": [
        "pontuacoes = string.punctuation\r\n",
        "def remove_pontuacoes(text):\r\n",
        "  return text.translate(str.maketrans('','', pontuacoes))"
      ],
      "execution_count": null,
      "outputs": []
    },
    {
      "cell_type": "code",
      "metadata": {
        "id": "ZmzgtVdrTR74"
      },
      "source": [
        "remove_pontuacoes(\"!!!This is cool!!_*&%$#\")"
      ],
      "execution_count": null,
      "outputs": []
    },
    {
      "cell_type": "markdown",
      "metadata": {
        "id": "ENuFJ2czTpOc"
      },
      "source": [
        "#### **Remoção de URL's**"
      ]
    },
    {
      "cell_type": "code",
      "metadata": {
        "id": "FDTuOE5DTs_k"
      },
      "source": [
        "import re"
      ],
      "execution_count": null,
      "outputs": []
    },
    {
      "cell_type": "code",
      "metadata": {
        "id": "-VAoJLRTU_Ho"
      },
      "source": [
        "def remove_urls(text):\r\n",
        "  url_padrao = re.compile(r'https?://\\$+|www\\.\\$+')\r\n",
        "  return url_padrao.sub(r'', text)"
      ],
      "execution_count": null,
      "outputs": []
    },
    {
      "cell_type": "code",
      "metadata": {
        "id": "vGZMj40tUIvI"
      },
      "source": [
        "print(remove_urls('O site do github é www.github.com ou https://github.com'))"
      ],
      "execution_count": null,
      "outputs": []
    },
    {
      "cell_type": "markdown",
      "metadata": {
        "id": "0ipeYt4oVS4n"
      },
      "source": [
        "#### **Remoção de tags HTML**"
      ]
    },
    {
      "cell_type": "code",
      "metadata": {
        "id": "PyZUyt24VXlY"
      },
      "source": [
        "def remove_html(texto):\r\n",
        "  html_pattern = re.compile('<.*?.>')\r\n",
        "  return html_pattern.sub(r'', texto)"
      ],
      "execution_count": null,
      "outputs": []
    },
    {
      "cell_type": "code",
      "metadata": {
        "id": "Od3o6GyVVxjv"
      },
      "source": [
        "texto = \"\"\" <div>\r\n",
        "<h1> Github</h1>\r\n",
        "<p> Tutorial de uso do Python para Data Cleaning!</p>\r\n",
        "<a href=\"https://github.com\"> Repositorios de Data Science e de Machine Learning</a>\r\n",
        "</div>\"\"\""
      ],
      "execution_count": null,
      "outputs": []
    },
    {
      "cell_type": "code",
      "metadata": {
        "id": "7GJ_GJqGWW5Y"
      },
      "source": [
        "print(remove_html(texto))"
      ],
      "execution_count": null,
      "outputs": []
    },
    {
      "cell_type": "markdown",
      "metadata": {
        "id": "iPF_x4KSXMHm"
      },
      "source": [
        "#### **Várias remoções em uma mesma função:**"
      ]
    },
    {
      "cell_type": "code",
      "metadata": {
        "id": "MIqxbk2GXVQP"
      },
      "source": [
        "import string\r\n",
        "import re\r\n",
        "\r\n",
        "\r\n",
        "def text_cleaner(text):\r\n",
        "  text = text.lower()\r\n",
        "  pontuacoes = string.punctuation\r\n",
        "  url_padrao = re.compile(r'https?://\\$+|www\\.\\$+')\r\n",
        "  html_padrao = re.compile('<.*?.>')\r\n",
        "  text_temp = html_padrao.sub(r'', text)\r\n",
        "  text_temp = url_padrao.sub(r'', text_temp)\r\n",
        "  text_temp = text_temp.translate(str.maketrans('','', pontuacoes))\r\n",
        "  return text_temp"
      ],
      "execution_count": null,
      "outputs": []
    },
    {
      "cell_type": "code",
      "metadata": {
        "colab": {
          "base_uri": "https://localhost:8080/",
          "height": 35
        },
        "id": "jVDA4CAAYmu1",
        "outputId": "689092bc-0106-4328-a541-4a777bb9309f"
      },
      "source": [
        "text_cleaner(\"<h1>O site do Github é https://github.com, cujas informações são muito úteis !!!</h1>\")"
      ],
      "execution_count": null,
      "outputs": [
        {
          "output_type": "execute_result",
          "data": {
            "application/vnd.google.colaboratory.intrinsic+json": {
              "type": "string"
            },
            "text/plain": [
              "'o site do github é httpsgithubcom cujas informações são muito úteis '"
            ]
          },
          "metadata": {
            "tags": []
          },
          "execution_count": 138
        }
      ]
    },
    {
      "cell_type": "markdown",
      "metadata": {
        "id": "7vkbqNAhZHik"
      },
      "source": [
        "## **Versionamento de DataFrames**"
      ]
    },
    {
      "cell_type": "markdown",
      "metadata": {
        "id": "_V4md1wRZuyT"
      },
      "source": [
        "Dora: Toolkit para análise exploratória de dados\r\n",
        "\r\n",
        "\r\n",
        "*   Funciona no pandas e no scikit-learn\r\n",
        "*   Contém métodos para simplificar tarefas\r\n",
        "*   Cria versões de Dataframes\r\n",
        "\r\n"
      ]
    },
    {
      "cell_type": "code",
      "metadata": {
        "id": "_s4Yqld_Z-7M"
      },
      "source": [
        "!pip install Dora"
      ],
      "execution_count": null,
      "outputs": []
    },
    {
      "cell_type": "markdown",
      "metadata": {
        "id": "0LI_0_p5aILL"
      },
      "source": [
        "### **Importação do Dora e carregamento do arquivo de dados:**"
      ]
    },
    {
      "cell_type": "code",
      "metadata": {
        "id": "ZoHGA54AaPDl"
      },
      "source": [
        "from Dora import Dora"
      ],
      "execution_count": 141,
      "outputs": []
    },
    {
      "cell_type": "code",
      "metadata": {
        "id": "ocMFet3vajb9"
      },
      "source": [
        "df = missingno_data.nyc_collision_factors()"
      ],
      "execution_count": 142,
      "outputs": []
    },
    {
      "cell_type": "markdown",
      "metadata": {
        "id": "hUTKEpRLasRQ"
      },
      "source": [
        "Estância de um objeto Dora:"
      ]
    },
    {
      "cell_type": "code",
      "metadata": {
        "id": "Yqkmzqz8avIG"
      },
      "source": [
        "dora = Dora(output = 0, data = df)"
      ],
      "execution_count": 143,
      "outputs": []
    },
    {
      "cell_type": "code",
      "metadata": {
        "id": "-d3AXunxbCIp"
      },
      "source": [
        "type(dora.data)"
      ],
      "execution_count": null,
      "outputs": []
    },
    {
      "cell_type": "code",
      "metadata": {
        "id": "ERN27CdmbFXF"
      },
      "source": [
        "dora.data.head() #dora.[tecla TAB] mostra os diversos atributos do Dora"
      ],
      "execution_count": null,
      "outputs": []
    },
    {
      "cell_type": "markdown",
      "metadata": {
        "id": "PW499UBwbb6h"
      },
      "source": [
        "### **Criação de um snapshot:**"
      ]
    },
    {
      "cell_type": "code",
      "metadata": {
        "id": "EBtbCrijbq4c"
      },
      "source": [
        "dora.snapshot('versao-0') # Cria uma versão inicial, caso queira salvar os dados sem as modificações"
      ],
      "execution_count": 146,
      "outputs": []
    },
    {
      "cell_type": "markdown",
      "metadata": {
        "id": "WmRQuk7Cb6yM"
      },
      "source": [
        "### **Remoção de colunas:**"
      ]
    },
    {
      "cell_type": "code",
      "metadata": {
        "id": "2UtAJW2_b9Qa"
      },
      "source": [
        "dora.remove_feature('LOCATION') # Poderia usar dora.data.drop..."
      ],
      "execution_count": 147,
      "outputs": []
    },
    {
      "cell_type": "code",
      "metadata": {
        "id": "GTXhnmRicFic"
      },
      "source": [
        "dora.data.head()"
      ],
      "execution_count": null,
      "outputs": []
    },
    {
      "cell_type": "code",
      "metadata": {
        "id": "0NLghNbHcLTS"
      },
      "source": [
        "dora.logs # Mostra as alterações feitas no dora"
      ],
      "execution_count": null,
      "outputs": []
    },
    {
      "cell_type": "markdown",
      "metadata": {
        "id": "PnKLZjjwccvo"
      },
      "source": [
        "### **Outras alterações:**"
      ]
    },
    {
      "cell_type": "code",
      "metadata": {
        "id": "MJQBldwNcfsr"
      },
      "source": [
        "dora.data['LAT_LONG'] = dora.data.LATITUDE + dora.data.LONGITUDE # Criou uma coluna combinando latitute e longitude"
      ],
      "execution_count": 150,
      "outputs": []
    },
    {
      "cell_type": "code",
      "metadata": {
        "id": "n50hDkkfcq4K"
      },
      "source": [
        "dora.data.head()"
      ],
      "execution_count": null,
      "outputs": []
    },
    {
      "cell_type": "code",
      "metadata": {
        "id": "4wwxCkTwc7tU"
      },
      "source": [
        "dora.snapshot('versao-1')"
      ],
      "execution_count": 152,
      "outputs": []
    },
    {
      "cell_type": "code",
      "metadata": {
        "id": "boPO6mNNdBrN"
      },
      "source": [
        "dora.data.drop(['NUMBER OF PERSONS INJURED', 'NUMBER OF PERSONS KILLED', 'CONTRIBUTING FACTOR VEHICLE 1'], axis=1, inplace=True)"
      ],
      "execution_count": 154,
      "outputs": []
    },
    {
      "cell_type": "code",
      "metadata": {
        "id": "tBM7S6F2dn2p"
      },
      "source": [
        "dora.data.head()"
      ],
      "execution_count": null,
      "outputs": []
    },
    {
      "cell_type": "markdown",
      "metadata": {
        "id": "XkP8DeGCeAop"
      },
      "source": [
        "### **Utilizar o snapshot versão 1 e 0:**"
      ]
    },
    {
      "cell_type": "code",
      "metadata": {
        "id": "e50E76M9eE7p"
      },
      "source": [
        "dora.use_snapshot('versao-1')"
      ],
      "execution_count": 160,
      "outputs": []
    },
    {
      "cell_type": "code",
      "metadata": {
        "id": "72YUmz4CeKuh"
      },
      "source": [
        "dora.data.head()"
      ],
      "execution_count": null,
      "outputs": []
    },
    {
      "cell_type": "code",
      "metadata": {
        "id": "LgrFFDU8eQ9B"
      },
      "source": [
        "dora.use_snapshot('versao-0')"
      ],
      "execution_count": 162,
      "outputs": []
    },
    {
      "cell_type": "code",
      "metadata": {
        "id": "54OQHjG2eU9y"
      },
      "source": [
        "dora.data.head()"
      ],
      "execution_count": null,
      "outputs": []
    }
  ]
}