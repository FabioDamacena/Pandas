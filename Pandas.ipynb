{
  "nbformat": 4,
  "nbformat_minor": 0,
  "metadata": {
    "colab": {
      "name": "Untitled0.ipynb",
      "provenance": [],
      "collapsed_sections": [
        "u_m3HLgUqMhT",
        "_bGLQvFcqYVV",
        "8DUJcUZ4D0ys",
        "wtF_vKaOGKnX",
        "YEHf6ob3K8rX",
        "0NEQX-rtVP-h",
        "r0idqBhlVfVD",
        "Id79oHtVVjrL"
      ],
      "authorship_tag": "ABX9TyM/0s3AC3Tns2qhneOt3kUw",
      "include_colab_link": true
    },
    "kernelspec": {
      "name": "python3",
      "display_name": "Python 3"
    }
  },
  "cells": [
    {
      "cell_type": "markdown",
      "metadata": {
        "id": "view-in-github",
        "colab_type": "text"
      },
      "source": [
        "<a href=\"https://colab.research.google.com/github/FabioDamacena/Pandas/blob/main/Pandas.ipynb\" target=\"_parent\"><img src=\"https://colab.research.google.com/assets/colab-badge.svg\" alt=\"Open In Colab\"/></a>"
      ]
    },
    {
      "cell_type": "markdown",
      "metadata": {
        "id": "1Zl3J59ibUbx"
      },
      "source": [
        "# **Uso básico do pandas**"
      ]
    },
    {
      "cell_type": "code",
      "metadata": {
        "id": "nOB-0brCo1Cq"
      },
      "source": [
        "import pandas as pd"
      ],
      "execution_count": 1,
      "outputs": []
    },
    {
      "cell_type": "code",
      "metadata": {
        "id": "CjaiGsfppCte"
      },
      "source": [
        "pd.__version__"
      ],
      "execution_count": null,
      "outputs": []
    },
    {
      "cell_type": "markdown",
      "metadata": {
        "id": "u_m3HLgUqMhT"
      },
      "source": [
        "## **A estrutura de um data frame**"
      ]
    },
    {
      "cell_type": "code",
      "metadata": {
        "id": "uZSA8chQpIf8"
      },
      "source": [
        "df = pd.read_csv(\"https://raw.githubusercontent.com/datasciencedojo/datasets/master/titanic.csv\")"
      ],
      "execution_count": 75,
      "outputs": []
    },
    {
      "cell_type": "code",
      "metadata": {
        "id": "i4517GsvpoAt"
      },
      "source": [
        "df.head()"
      ],
      "execution_count": null,
      "outputs": []
    },
    {
      "cell_type": "code",
      "metadata": {
        "id": "Fr-ikdBSp1bV"
      },
      "source": [
        "df.info()"
      ],
      "execution_count": null,
      "outputs": []
    },
    {
      "cell_type": "markdown",
      "metadata": {
        "id": "_bGLQvFcqYVV"
      },
      "source": [
        "## **Índice**"
      ]
    },
    {
      "cell_type": "code",
      "metadata": {
        "id": "6SiqWZ-jqEjT"
      },
      "source": [
        "df.index"
      ],
      "execution_count": null,
      "outputs": []
    },
    {
      "cell_type": "markdown",
      "metadata": {
        "id": "7ocXa___rST7"
      },
      "source": [
        "Depois de lido o arquivo, é possível alterar o índice para ser o ID do passageiro, conforme comando abaixo:"
      ]
    },
    {
      "cell_type": "code",
      "metadata": {
        "id": "6VCyZ5WKrRNB"
      },
      "source": [
        "df.set_index('PassengerId', inplace = True)"
      ],
      "execution_count": 58,
      "outputs": []
    },
    {
      "cell_type": "code",
      "metadata": {
        "id": "5OmQ30eWr1GN"
      },
      "source": [
        "df.head()"
      ],
      "execution_count": null,
      "outputs": []
    },
    {
      "cell_type": "markdown",
      "metadata": {
        "id": "loFz0iy2spI6"
      },
      "source": [
        "Características de um dataframe"
      ]
    },
    {
      "cell_type": "code",
      "metadata": {
        "id": "EiUdIZ4msOpO"
      },
      "source": [
        "df.columns"
      ],
      "execution_count": null,
      "outputs": []
    },
    {
      "cell_type": "code",
      "metadata": {
        "id": "i3nPI7EMsSvO"
      },
      "source": [
        "df.values"
      ],
      "execution_count": null,
      "outputs": []
    },
    {
      "cell_type": "code",
      "metadata": {
        "id": "C4jxqa8osfjI"
      },
      "source": [
        "type(df.values)"
      ],
      "execution_count": null,
      "outputs": []
    },
    {
      "cell_type": "markdown",
      "metadata": {
        "id": "F7kG9075suIS"
      },
      "source": [
        "Dataframes vs séries: séries são mais limitadas, dataframes abrange toda uma estrutura de dados.\r\n",
        "*   Métodos diferentes\r\n",
        "*   N dimensões\r\n",
        "\r\n",
        "\r\n",
        "\r\n",
        "\r\n"
      ]
    },
    {
      "cell_type": "markdown",
      "metadata": {
        "id": "mNmZPoeXtRb0"
      },
      "source": [
        "Consultando dados (diferente do SQL). método loc possibilita consultar dados dentro do dataframe:"
      ]
    },
    {
      "cell_type": "code",
      "metadata": {
        "id": "zPz1OGL8sjY6"
      },
      "source": [
        "df.loc[1] #consulta linha 1"
      ],
      "execution_count": null,
      "outputs": []
    },
    {
      "cell_type": "code",
      "metadata": {
        "id": "CyC0eclMt2k0"
      },
      "source": [
        "df.loc[[1, 2, 3]] #consulta várias linhas"
      ],
      "execution_count": null,
      "outputs": []
    },
    {
      "cell_type": "code",
      "metadata": {
        "id": "D-1jM1ZFuGxS"
      },
      "source": [
        "df.loc[10:20] # da posição 10 até 20"
      ],
      "execution_count": null,
      "outputs": []
    },
    {
      "cell_type": "code",
      "metadata": {
        "id": "2I6P_jifuOS6"
      },
      "source": [
        "df.loc[10:30:2] # posição 10 até 30 com passo de 2 em 2"
      ],
      "execution_count": null,
      "outputs": []
    },
    {
      "cell_type": "code",
      "metadata": {
        "id": "K2f4WqD1uYPa"
      },
      "source": [
        "df.loc[10:] # do 10 até o último"
      ],
      "execution_count": null,
      "outputs": []
    },
    {
      "cell_type": "markdown",
      "metadata": {
        "id": "s13V8IfYuf5b"
      },
      "source": [
        "Selecionando linhas e colunas com o loc\r\n",
        "\r\n",
        "df.loc[[linha1, linha2], [coluna1, coluna2, coluna3]]"
      ]
    },
    {
      "cell_type": "code",
      "metadata": {
        "id": "r-tEkXJVuxfk"
      },
      "source": [
        "df.loc[[1, 2], ['Name', 'Sex', 'Age']]"
      ],
      "execution_count": null,
      "outputs": []
    },
    {
      "cell_type": "code",
      "metadata": {
        "id": "zIoHizUevOp0"
      },
      "source": [
        "df.loc[:, ['Name', 'Sex', 'Age']] #Seleciona todas as linhas e as colunas solicitadas"
      ],
      "execution_count": null,
      "outputs": []
    },
    {
      "cell_type": "markdown",
      "metadata": {
        "id": "e4Nsa7qAAYYV"
      },
      "source": [
        "Método query: simplifica, traduz a consulta (iloc passa a posição que quer alterar):"
      ]
    },
    {
      "cell_type": "code",
      "metadata": {
        "id": "MPTJZrYwAcZP"
      },
      "source": [
        "df.query('Age > 20').head()"
      ],
      "execution_count": null,
      "outputs": []
    },
    {
      "cell_type": "code",
      "metadata": {
        "id": "fe0nu9lZAuOE"
      },
      "source": [
        "df.query('Age > 20 & Sex==\"male\"').head(10)"
      ],
      "execution_count": null,
      "outputs": []
    },
    {
      "cell_type": "markdown",
      "metadata": {
        "id": "jO3rW9lMBNRG"
      },
      "source": [
        "Usando o operador OR:"
      ]
    },
    {
      "cell_type": "code",
      "metadata": {
        "id": "S60lCtjpBPb1"
      },
      "source": [
        "df.query('Age > 20 | Sex==\"Male\"').head(10)"
      ],
      "execution_count": null,
      "outputs": []
    },
    {
      "cell_type": "markdown",
      "metadata": {
        "id": "acyVdD3TBbU1"
      },
      "source": [
        "Operador IN e parâmetro inplace (altera os dados do dataframe):"
      ]
    },
    {
      "cell_type": "code",
      "metadata": {
        "id": "ECqsldyPBeQd"
      },
      "source": [
        "df.query('Embarked in [\"C\", \"Q\"]', inplace=True)"
      ],
      "execution_count": 50,
      "outputs": []
    },
    {
      "cell_type": "code",
      "metadata": {
        "id": "npgKDQWLBs8t"
      },
      "source": [
        "df.head()"
      ],
      "execution_count": null,
      "outputs": []
    },
    {
      "cell_type": "markdown",
      "metadata": {
        "id": "jpUFwRVZDUCW"
      },
      "source": [
        "filtrando dados tipo object:"
      ]
    },
    {
      "cell_type": "code",
      "metadata": {
        "id": "9Tt3bMMKDWlP"
      },
      "source": [
        "df.select_dtypes(include=['object'])"
      ],
      "execution_count": null,
      "outputs": []
    },
    {
      "cell_type": "markdown",
      "metadata": {
        "id": "8DUJcUZ4D0ys"
      },
      "source": [
        "## **Analisando um Dataframe com profiling**"
      ]
    },
    {
      "cell_type": "markdown",
      "metadata": {
        "id": "UHgS7OTlEAkk"
      },
      "source": [
        "Ajuda a inspecionar um dataframe:\r\n",
        "\r\n",
        "Ajuda a identificar missing values, zeros, high cardinality e distincts values\r\n",
        "\r\n",
        "Estatísticas por coluna (quartis, missing, média, mínimo, máximo, distintos, zeros, histograma para ver a distribuição, range, interquartile range, estatísticas descritivas (coeficiente de variação, desvio padrão, soma, variância, média, mediana))"
      ]
    },
    {
      "cell_type": "code",
      "metadata": {
        "id": "aDs2wQBTD4Yj"
      },
      "source": [
        "import pandas_profiling"
      ],
      "execution_count": 77,
      "outputs": []
    },
    {
      "cell_type": "code",
      "metadata": {
        "colab": {
          "base_uri": "https://localhost:8080/"
        },
        "id": "pxB1EF90EEqj",
        "outputId": "4d938e91-3785-4468-ba16-fae3d8277ac2"
      },
      "source": [
        "try:\r\n",
        "  pandas_profiling.ProfileReport(df)\r\n",
        "except:\r\n",
        "  print(\"Não foi possível executar o comando.\")"
      ],
      "execution_count": 78,
      "outputs": [
        {
          "output_type": "stream",
          "text": [
            "Não foi possível executar o comando.\n"
          ],
          "name": "stdout"
        }
      ]
    },
    {
      "cell_type": "markdown",
      "metadata": {
        "id": "wtF_vKaOGKnX"
      },
      "source": [
        "## **Agregação de dados**"
      ]
    },
    {
      "cell_type": "markdown",
      "metadata": {
        "id": "aCRzAN1mGiJI"
      },
      "source": [
        "Agrupa e conta a quantidade por sexo:"
      ]
    },
    {
      "cell_type": "code",
      "metadata": {
        "id": "fG6l-xvOGMRd"
      },
      "source": [
        "df.groupby(by='Sex').size()"
      ],
      "execution_count": null,
      "outputs": []
    },
    {
      "cell_type": "code",
      "metadata": {
        "id": "D-1Dktj-HKiL"
      },
      "source": [
        "df.Sex.value_counts() #faz a mesma coisa, porém o groupy possibilita extender a mais de uma coluna para agrupar."
      ],
      "execution_count": null,
      "outputs": []
    },
    {
      "cell_type": "code",
      "metadata": {
        "id": "MFXGXBy_IBgx"
      },
      "source": [
        "df.groupby(by='Sex').count()"
      ],
      "execution_count": null,
      "outputs": []
    },
    {
      "cell_type": "markdown",
      "metadata": {
        "id": "byLlYKL2HrRA"
      },
      "source": [
        "Agrupando por sexo e calculando a média das idades:"
      ]
    },
    {
      "cell_type": "code",
      "metadata": {
        "id": "GYthhiuJHuyO"
      },
      "source": [
        "df.groupby(by='Sex')['Age'].mean()"
      ],
      "execution_count": null,
      "outputs": []
    },
    {
      "cell_type": "markdown",
      "metadata": {
        "id": "crI_ThtdITR6"
      },
      "source": [
        "Para trabalhar com os dados, usar index e values (transforme em lista, em vez de array numpy, para poder plotar gráficos e executar outros trabalhos):"
      ]
    },
    {
      "cell_type": "code",
      "metadata": {
        "id": "ySZVsTTYIX4x"
      },
      "source": [
        "s1 = df.groupby(by='Sex')['Age'].mean()"
      ],
      "execution_count": 67,
      "outputs": []
    },
    {
      "cell_type": "code",
      "metadata": {
        "id": "0e2_mCCzIg0J"
      },
      "source": [
        "s1.index.values.tolist()"
      ],
      "execution_count": null,
      "outputs": []
    },
    {
      "cell_type": "code",
      "metadata": {
        "id": "LlHdm_WbInXP"
      },
      "source": [
        "s1.values.tolist()"
      ],
      "execution_count": null,
      "outputs": []
    },
    {
      "cell_type": "markdown",
      "metadata": {
        "id": "wwV1BFAEJHBK"
      },
      "source": [
        "Média das idades das pessoas que sobreviveram e das que não sobreviveram:\r\n",
        "\r\n",
        "Manda agrupar por sexo e se sobreviveu ou não, depois manda agregar pela media da idade e pela quantidade de passageiros."
      ]
    },
    {
      "cell_type": "code",
      "metadata": {
        "id": "Z4RQkf78JM8P"
      },
      "source": [
        "import numpy as np"
      ],
      "execution_count": 71,
      "outputs": []
    },
    {
      "cell_type": "code",
      "metadata": {
        "id": "CcPpjOXHJQQf"
      },
      "source": [
        "df.groupby(['Sex', 'Survived']).agg({'Age': np.mean, 'PassengerId': np.size})"
      ],
      "execution_count": null,
      "outputs": []
    },
    {
      "cell_type": "markdown",
      "metadata": {
        "id": "YEHf6ob3K8rX"
      },
      "source": [
        "## **DataCleaning e Pré-Processamento de dados**"
      ]
    },
    {
      "cell_type": "markdown",
      "metadata": {
        "id": "ArOfpug_LJuW"
      },
      "source": [
        "Gerando amostra aleatória dos dados:"
      ]
    },
    {
      "cell_type": "code",
      "metadata": {
        "id": "wXhWD-KSLAi3"
      },
      "source": [
        "df.sample(n=50).head()"
      ],
      "execution_count": null,
      "outputs": []
    },
    {
      "cell_type": "markdown",
      "metadata": {
        "id": "ef9QTPnwLTOd"
      },
      "source": [
        "25% de dados aleatórios:"
      ]
    },
    {
      "cell_type": "code",
      "metadata": {
        "id": "L8G0Ui4oLVT9"
      },
      "source": [
        "df.sample(frac=.25, random_state=1).head()"
      ],
      "execution_count": null,
      "outputs": []
    },
    {
      "cell_type": "markdown",
      "metadata": {
        "id": "AKgEh6KmLfgh"
      },
      "source": [
        "Tratando missing values:"
      ]
    },
    {
      "cell_type": "code",
      "metadata": {
        "id": "l83kxKePLhGo"
      },
      "source": [
        "df.isnull().sum()"
      ],
      "execution_count": null,
      "outputs": []
    },
    {
      "cell_type": "markdown",
      "metadata": {
        "id": "CBGlU9WrL_RY"
      },
      "source": [
        "Métodos de preenchimento de valores faltantes:\r\n",
        "\r\n",
        "df.fillna(0) pega os valores faltantes e preenche com zero\r\n",
        "\r\n",
        "df.fillna(df.Age.mean()) preenche com a média da coluna\r\n",
        "\r\n",
        "df.fillna(method='ffill') pega o último valor anterior que não era NA e preenche\r\n",
        "\r\n",
        "df.fillna(method='bfill') pega o último valor anterior que não era null e preenche\r\n",
        "\r\n",
        "values = {'A': 0, 'B': 1, 'C': 2, 'D': 3} -> df.fillna(value=values) define dicionário de valores\r\n",
        "\r\n",
        "\r\n"
      ]
    },
    {
      "cell_type": "code",
      "metadata": {
        "id": "6JLSbjrAM3UV"
      },
      "source": [
        "values = {'Age': df.Age.mode()[0], 'Cabin': 'SC', 'Embarked': df.Embarked.mode()[0]} #preencheu idade e embarcado com a moda, cabin com SC (sem informação)"
      ],
      "execution_count": 91,
      "outputs": []
    },
    {
      "cell_type": "code",
      "metadata": {
        "id": "4ywthc8RNIak"
      },
      "source": [
        "df.fillna(value=values, inplace=True)"
      ],
      "execution_count": 92,
      "outputs": []
    },
    {
      "cell_type": "markdown",
      "metadata": {
        "id": "HB1pELm4Opt-"
      },
      "source": [
        "Manipulando strings:"
      ]
    },
    {
      "cell_type": "code",
      "metadata": {
        "id": "816rXrPUOtNZ"
      },
      "source": [
        "df.Name.str.rstrip().head() #remove dado em branco da direita. lstrip da esquerda"
      ],
      "execution_count": null,
      "outputs": []
    },
    {
      "cell_type": "code",
      "metadata": {
        "id": "YFPppfiQO2Nr"
      },
      "source": [
        "df.Name.str.lower().head()"
      ],
      "execution_count": null,
      "outputs": []
    },
    {
      "cell_type": "code",
      "metadata": {
        "id": "JcWBBH-DO9Uz"
      },
      "source": [
        "df.Name.str.upper().head()"
      ],
      "execution_count": null,
      "outputs": []
    },
    {
      "cell_type": "markdown",
      "metadata": {
        "id": "oYIqLQ5-PPhe"
      },
      "source": [
        "Cleaning textos:"
      ]
    },
    {
      "cell_type": "code",
      "metadata": {
        "id": "B7YvjzeSPR8z"
      },
      "source": [
        "def remove_parenteses(item):\r\n",
        "  if '(' in item:\r\n",
        "    return item.replace('(','').replace(')','')\r\n",
        "  else:\r\n",
        "    return item"
      ],
      "execution_count": 98,
      "outputs": []
    },
    {
      "cell_type": "code",
      "metadata": {
        "id": "BVKOd5HbPqXl"
      },
      "source": [
        "df.Name.head(10).apply(remove_parenteses) #método applymap() pode ser usado a nível de dataframe (em todas as colunas de uma vez)"
      ],
      "execution_count": null,
      "outputs": []
    },
    {
      "cell_type": "markdown",
      "metadata": {
        "id": "-4U4eIN5QNzB"
      },
      "source": [
        "Trabalhando com expressão regular: (ex.: buscar todos os nomes que têm a expressão 'Mr' na frente) busca um padrão."
      ]
    },
    {
      "cell_type": "code",
      "metadata": {
        "id": "udRGZGn8QPvj"
      },
      "source": [
        "import re"
      ],
      "execution_count": 100,
      "outputs": []
    },
    {
      "cell_type": "code",
      "metadata": {
        "id": "8t1TNpO-QRkb"
      },
      "source": [
        "df.loc[df.Name.str.contains('Mr', flags=re.I, regex=True)].head()"
      ],
      "execution_count": null,
      "outputs": []
    },
    {
      "cell_type": "markdown",
      "metadata": {
        "id": "2xJNst19Q5Gu"
      },
      "source": [
        "Usando lambda para buscar quais linhas possuem Mr e qual a última letra do nome das linhas que contêm Mr:"
      ]
    },
    {
      "cell_type": "code",
      "metadata": {
        "id": "v7G-8fXPRCYD"
      },
      "source": [
        "def checa_nome(name, last_letter):\r\n",
        "  if re.search('Mr', name):\r\n",
        "    return last_letter\r\n",
        "  else:\r\n",
        "    return 0"
      ],
      "execution_count": 102,
      "outputs": []
    },
    {
      "cell_type": "code",
      "metadata": {
        "id": "4_brdk6mRRUT"
      },
      "source": [
        "df['Mr_name'] = df.Name.apply(lambda x: checa_nome(x, x[-1])) #criou nova coluna"
      ],
      "execution_count": 103,
      "outputs": []
    },
    {
      "cell_type": "code",
      "metadata": {
        "id": "EuT17xreRewT"
      },
      "source": [
        "df.head(20)"
      ],
      "execution_count": null,
      "outputs": []
    },
    {
      "cell_type": "markdown",
      "metadata": {
        "id": "vTZI6_wiSP-a"
      },
      "source": [
        "# **Trabalhando com grande base de dados (aprimorando performance do pandas)**"
      ]
    },
    {
      "cell_type": "markdown",
      "metadata": {
        "id": "rKpem7McSVBz"
      },
      "source": [
        "1.   Tente trabalhar apenas com as colunas que realmente vai precisar\r\n",
        "2.   Atentar para o tipo de dado de cada coluna\r\n",
        "3.   Usar chunksize para dividir o processamento por quantidade de linhas\r\n",
        "\r\n",
        "Dica: usar o comando head para ler as primeiras 5 primeiras linhas e verificar qual é o separador:\r\n",
        "\r\n",
        "df = pd.read_csv(\"link.csv\", sep=',', nrow=5)\r\n",
        "\r\n"
      ]
    },
    {
      "cell_type": "markdown",
      "metadata": {
        "id": "0NEQX-rtVP-h"
      },
      "source": [
        "## **Tente trabalhar apenas com as colunas que realmente vai precisar**"
      ]
    },
    {
      "cell_type": "markdown",
      "metadata": {
        "id": "KKoVxLErTzBg"
      },
      "source": [
        "Exportar o nome das colunas para usar no parâmetro usecols (para o caso de dados com centenas de colunas, as quais não utilizará todas)"
      ]
    },
    {
      "cell_type": "code",
      "metadata": {
        "id": "qORxVRSfSrGa"
      },
      "source": [
        "df.columns.tolist()"
      ],
      "execution_count": null,
      "outputs": []
    },
    {
      "cell_type": "code",
      "metadata": {
        "id": "FFwIKbxGUBPJ"
      },
      "source": [
        "df = pd.read_csv(\"https://raw.githubusercontent.com/datasciencedojo/datasets/master/titanic.csv\", usecols=['PassengerId', 'Survived', 'Name', 'Sex'])"
      ],
      "execution_count": 107,
      "outputs": []
    },
    {
      "cell_type": "code",
      "metadata": {
        "id": "CXsXSz5WUMfY"
      },
      "source": [
        "df.head()"
      ],
      "execution_count": null,
      "outputs": []
    },
    {
      "cell_type": "code",
      "metadata": {
        "id": "fNmA4GcGUXTy"
      },
      "source": [
        "df.info() #usa bem menos memória com menos colunas, o que faz diferença para grande número de dados"
      ],
      "execution_count": null,
      "outputs": []
    },
    {
      "cell_type": "markdown",
      "metadata": {
        "id": "Wmyzf5z_UiBQ"
      },
      "source": [
        "Ler todas as colunas, exceto algumas, usando lambda:"
      ]
    },
    {
      "cell_type": "code",
      "metadata": {
        "id": "H_vvfitcUk-B"
      },
      "source": [
        "data = \"https://raw.githubusercontent.com/datasciencedojo/datasets/master/titanic.csv\"\r\n",
        "df = pd.read_csv(data, usecols = lambda column : column not in [\"Parch\", \"Ticket\", \"Fare\", \"Cabin\"])"
      ],
      "execution_count": 110,
      "outputs": []
    },
    {
      "cell_type": "code",
      "metadata": {
        "id": "T8_vh5NnU_ow"
      },
      "source": [
        "df.head()"
      ],
      "execution_count": null,
      "outputs": []
    },
    {
      "cell_type": "code",
      "metadata": {
        "id": "JH5o-3-SVB5P"
      },
      "source": [
        "df.info()"
      ],
      "execution_count": null,
      "outputs": []
    },
    {
      "cell_type": "markdown",
      "metadata": {
        "id": "r0idqBhlVfVD"
      },
      "source": [
        "## **Atentar para o tipo de dado de cada coluna**"
      ]
    },
    {
      "cell_type": "code",
      "metadata": {
        "id": "GDQKoHO0WE7_"
      },
      "source": [
        "df = pd.read_csv(\"https://raw.githubusercontent.com/datasciencedojo/datasets/master/titanic.csv\")"
      ],
      "execution_count": 113,
      "outputs": []
    },
    {
      "cell_type": "code",
      "metadata": {
        "id": "SVu4sDfLWLhD"
      },
      "source": [
        "df.head()"
      ],
      "execution_count": null,
      "outputs": []
    },
    {
      "cell_type": "code",
      "metadata": {
        "id": "goViJxz6WMwm"
      },
      "source": [
        "df.info()"
      ],
      "execution_count": null,
      "outputs": []
    },
    {
      "cell_type": "markdown",
      "metadata": {
        "id": "WTqgTe2iWVTw"
      },
      "source": [
        "Convertendo os tipos de dados:"
      ]
    },
    {
      "cell_type": "code",
      "metadata": {
        "id": "tYxQztj5WXlR"
      },
      "source": [
        "df.Sex = df.Sex.astype('category')\r\n",
        "df.Embarked = df.Embarked.astype('category')\r\n",
        "df.Survived = df.Survived.astype('category')\r\n",
        "df.Pclass = df.Pclass.astype('category')\r\n",
        "df.PassengerId = df.PassengerId.astype('int32')\r\n",
        "df.Parch = df.Parch.astype('int32')\r\n",
        "df.SibSp = df.SibSp.astype('int32')"
      ],
      "execution_count": 117,
      "outputs": []
    },
    {
      "cell_type": "code",
      "metadata": {
        "id": "zSpGOHwQW5XJ"
      },
      "source": [
        "df.info() #melhorou o uso de memória"
      ],
      "execution_count": null,
      "outputs": []
    },
    {
      "cell_type": "markdown",
      "metadata": {
        "id": "uNhH_U2FXHoq"
      },
      "source": [
        "Convertendo colunas em tempo de leitura:"
      ]
    },
    {
      "cell_type": "code",
      "metadata": {
        "id": "2qKGWk8XXfLB"
      },
      "source": [
        "data = \"https://raw.githubusercontent.com/datasciencedojo/datasets/master/titanic.csv\"\r\n",
        "df = pd.read_csv(data, dtype = {\"Embarked\": \"category\", \"Survived\": \"category\", \"Parch\": \"int32\"})"
      ],
      "execution_count": 119,
      "outputs": []
    },
    {
      "cell_type": "code",
      "metadata": {
        "id": "tB_ahFgwX9CH"
      },
      "source": [
        "df.info()"
      ],
      "execution_count": null,
      "outputs": []
    },
    {
      "cell_type": "markdown",
      "metadata": {
        "id": "Id79oHtVVjrL"
      },
      "source": [
        "## **Usar chunksize**"
      ]
    },
    {
      "cell_type": "markdown",
      "metadata": {
        "id": "h1Ghykl8YEew"
      },
      "source": [
        "Parâmetro também disponível no read_json"
      ]
    },
    {
      "cell_type": "code",
      "metadata": {
        "id": "Okxl8UtuYNqu"
      },
      "source": [
        "data = \"https://raw.githubusercontent.com/datasciencedojo/datasets/master/titanic.csv\""
      ],
      "execution_count": 121,
      "outputs": []
    },
    {
      "cell_type": "code",
      "metadata": {
        "id": "EmqZ0m-zYxhG"
      },
      "source": [
        "for d in pd.read_csv(data, chunksize=200):\r\n",
        "  print(\"Chunk\")\r\n",
        "  print(d.count()) #divide em partes (diferentes dataframes com até 200 linhas)"
      ],
      "execution_count": null,
      "outputs": []
    },
    {
      "cell_type": "code",
      "metadata": {
        "id": "VZl4jrzmYze_"
      },
      "source": [
        "age_mean = []\r\n",
        "age_std = []\r\n",
        "sex_dist = []\r\n",
        "male_count = []\r\n",
        "female_count = []"
      ],
      "execution_count": 125,
      "outputs": []
    },
    {
      "cell_type": "code",
      "metadata": {
        "id": "wz3I3Tjzat3P"
      },
      "source": [
        "try:\r\n",
        "  for d in pd.read_csv(data, chunksize=200):\r\n",
        "    age_mean.append(d.age_mean())\r\n",
        "    age_std.append(d.Age.std())\r\n",
        "    male_count.append(d.Sex.value_counts().values[0])\r\n",
        "    female_count.append(d.Sex.value_counts().values[1])\r\n",
        "except:\r\n",
        "  print(\"Não foi possível executar o comando.\")"
      ],
      "execution_count": null,
      "outputs": []
    },
    {
      "cell_type": "code",
      "metadata": {
        "id": "0KCr9amkavep"
      },
      "source": [
        "print(age_mean)\r\n",
        "print(age_std)\r\n",
        "print(male_count)\r\n",
        "print(female_count)"
      ],
      "execution_count": null,
      "outputs": []
    }
  ]
}